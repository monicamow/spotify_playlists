{
 "cells": [
  {
   "cell_type": "code",
   "execution_count": 50,
   "metadata": {},
   "outputs": [
    {
     "ename": "ImportError",
     "evalue": "cannot import name 'generated_playlist_id'",
     "output_type": "error",
     "traceback": [
      "\u001b[1;31m---------------------------------------------------------------------------\u001b[0m",
      "\u001b[1;31mImportError\u001b[0m                               Traceback (most recent call last)",
      "\u001b[1;32m<ipython-input-50-701ee60f8c26>\u001b[0m in \u001b[0;36m<module>\u001b[1;34m()\u001b[0m\n\u001b[0;32m      2\u001b[0m \u001b[1;32mimport\u001b[0m \u001b[0mspotipy\u001b[0m\u001b[1;33m.\u001b[0m\u001b[0mutil\u001b[0m \u001b[1;32mas\u001b[0m \u001b[0mutil\u001b[0m\u001b[1;33m\u001b[0m\u001b[0m\n\u001b[0;32m      3\u001b[0m \u001b[1;32mfrom\u001b[0m \u001b[0mconfig\u001b[0m \u001b[1;32mimport\u001b[0m \u001b[0mclient_id\u001b[0m\u001b[1;33m,\u001b[0m \u001b[0mclient_secret\u001b[0m\u001b[1;33m,\u001b[0m \u001b[0mredirect_uri\u001b[0m\u001b[1;33m,\u001b[0m \u001b[0musername\u001b[0m\u001b[1;33m,\u001b[0m \u001b[0mgood_playlist_id\u001b[0m\u001b[1;33m,\u001b[0m \u001b[0mbad_playlist_id\u001b[0m\u001b[1;33m\u001b[0m\u001b[0m\n\u001b[1;32m----> 4\u001b[1;33m \u001b[1;32mfrom\u001b[0m \u001b[0mdw_id\u001b[0m \u001b[1;32mimport\u001b[0m \u001b[0mdw_playlist_id\u001b[0m\u001b[1;33m,\u001b[0m \u001b[0mgenerated_playlist_id\u001b[0m\u001b[1;33m\u001b[0m\u001b[0m\n\u001b[0m\u001b[0;32m      5\u001b[0m \u001b[1;32mimport\u001b[0m \u001b[0mnumpy\u001b[0m \u001b[1;32mas\u001b[0m \u001b[0mnp\u001b[0m\u001b[1;33m\u001b[0m\u001b[0m\n\u001b[0;32m      6\u001b[0m \u001b[1;32mimport\u001b[0m \u001b[0mpandas\u001b[0m \u001b[1;32mas\u001b[0m \u001b[0mpd\u001b[0m\u001b[1;33m\u001b[0m\u001b[0m\n",
      "\u001b[1;31mImportError\u001b[0m: cannot import name 'generated_playlist_id'"
     ]
    }
   ],
   "source": [
    "import spotipy\n",
    "import spotipy.util as util\n",
    "from config import client_id, client_secret, redirect_uri, username, good_playlist_id, bad_playlist_id\n",
    "from dw_id import dw_playlist_id\n",
    "import numpy as np\n",
    "import pandas as pd\n",
    "\n",
    "scope = 'playlist-modify-private playlist-modify-public playlist-read-private user-library-read'\n",
    "token = util.prompt_for_user_token(username, scope, client_id=client_id, client_secret=client_secret, redirect_uri=redirect_uri)\n",
    "if token:\n",
    "    sp = spotipy.Spotify(auth=token)\n",
    "else:\n",
    "    print(\"Can't get token for\", username)"
   ]
  },
  {
   "cell_type": "markdown",
   "metadata": {},
   "source": [
    "# Pull data for good and bad playlists"
   ]
  },
  {
   "cell_type": "code",
   "execution_count": 36,
   "metadata": {},
   "outputs": [],
   "source": [
    "def get_playlist_tracks(username, playlist_id):\n",
    "    results = sp.user_playlist_tracks(username, playlist_id)\n",
    "    tracks = results['items']\n",
    "    while results['next']:\n",
    "        results = sp.next(results)\n",
    "        tracks.extend(results['items'])\n",
    "    return tracks\n",
    "\n",
    "def tracks_to_df(username, playlist_id, data_array):\n",
    "    tracks = get_playlist_tracks(username, playlist_id)\n",
    "    for i in range(len(tracks)):\n",
    "        row = [tracks[i]['track']['id'],\n",
    "              tracks[i]['track']['name'],\n",
    "              tracks[i]['track']['artists'][0]['name'],\n",
    "              tracks[i]['track']['popularity']]\n",
    "        data_array.append(row)\n",
    "        \n",
    "    data_df = pd.DataFrame(data=data_array,columns=['id','name','artist','popularity'])\n",
    "    return data_df"
   ]
  },
  {
   "cell_type": "code",
   "execution_count": 37,
   "metadata": {},
   "outputs": [],
   "source": [
    "data_good = []\n",
    "df_good = tracks_to_df(username, good_playlist_id, data_good)\n",
    "\n",
    "data_bad = []\n",
    "df_bad = tracks_to_df(username, bad_playlist_id, data_bad)"
   ]
  },
  {
   "cell_type": "markdown",
   "metadata": {},
   "source": [
    "# Pull features"
   ]
  },
  {
   "cell_type": "code",
   "execution_count": 38,
   "metadata": {},
   "outputs": [],
   "source": [
    "def chunks(mylist, chunk_size):\n",
    "    # For item i in a range that is a length of l,\n",
    "    for i in range(0, len(mylist), chunk_size):\n",
    "        # Create an index range for l of n items:\n",
    "        yield mylist[i:i+chunk_size]"
   ]
  },
  {
   "cell_type": "code",
   "execution_count": 39,
   "metadata": {},
   "outputs": [],
   "source": [
    "def features_to_df(ids, data_array):\n",
    "    # Create a list from the results of the function chunks, get features for batch of ids, append to array\n",
    "    for i in range(0, len(list(chunks(ids, 50)))):\n",
    "        ids_batch = list(chunks(ids, 50))[i]\n",
    "        features_temp = sp.audio_features(tracks=ids_batch)\n",
    "        data_array.append(features_temp)\n",
    "\n",
    "    columns = list(data_array[0][0].keys())\n",
    "    columns.sort()\n",
    "\n",
    "    # convert to df\n",
    "    # instantiate empty dataframe\n",
    "    df_features = pd.DataFrame(columns = columns)\n",
    "\n",
    "    for i in range(0, len(data_array)):\n",
    "        df_temp = pd.DataFrame(data_array[i], columns = columns)\n",
    "        df_features = df_features.append(df_temp, ignore_index=True)\n",
    "    \n",
    "    return df_features"
   ]
  },
  {
   "cell_type": "code",
   "execution_count": 40,
   "metadata": {},
   "outputs": [],
   "source": [
    "good_ids=df_good['id'].tolist()\n",
    "bad_ids=df_bad['id'].tolist()"
   ]
  },
  {
   "cell_type": "code",
   "execution_count": 41,
   "metadata": {},
   "outputs": [],
   "source": [
    "good_features = []\n",
    "df_features_good = features_to_df(good_ids, good_features)\n",
    "\n",
    "bad_features = []\n",
    "df_features_bad = features_to_df(bad_ids, bad_features)\n",
    "\n",
    "df_features_good['target'] = 1\n",
    "df_features_bad['target'] = 0\n",
    "\n",
    "data = df_features_good.append(df_features_bad, ignore_index=True)"
   ]
  },
  {
   "cell_type": "markdown",
   "metadata": {},
   "source": [
    "# Create test and training data"
   ]
  },
  {
   "cell_type": "code",
   "execution_count": 42,
   "metadata": {},
   "outputs": [],
   "source": [
    "#Define the set of features that we want to look at\n",
    "features_full = [\"acousticness\", \"danceability\", \"energy\", \"instrumentalness\", \"liveness\", \"loudness\", \"speechiness\", \"tempo\", \"valence\", \"key\", \"duration_ms\"]\n",
    "features_variation = [\"danceability\", \"energy\", \"tempo\", \"valence\", \"key\", \"duration_ms\"]\n",
    "features = features_variation\n",
    "\n",
    "from sklearn.model_selection import train_test_split\n",
    "x_train, x_test, y_train, y_test = train_test_split(data[features], data['target'], test_size = 0.3)"
   ]
  },
  {
   "cell_type": "code",
   "execution_count": 43,
   "metadata": {},
   "outputs": [
    {
     "data": {
      "text/plain": [
       "(353, 6)"
      ]
     },
     "execution_count": 43,
     "metadata": {},
     "output_type": "execute_result"
    }
   ],
   "source": [
    "x_train.shape"
   ]
  },
  {
   "cell_type": "code",
   "execution_count": 44,
   "metadata": {},
   "outputs": [
    {
     "data": {
      "text/plain": [
       "(152, 6)"
      ]
     },
     "execution_count": 44,
     "metadata": {},
     "output_type": "execute_result"
    }
   ],
   "source": [
    "x_test.shape"
   ]
  },
  {
   "cell_type": "markdown",
   "metadata": {},
   "source": [
    "# Models"
   ]
  },
  {
   "cell_type": "markdown",
   "metadata": {},
   "source": [
    "## 1. Decision Tree Classifier"
   ]
  },
  {
   "cell_type": "code",
   "execution_count": 11,
   "metadata": {},
   "outputs": [
    {
     "name": "stdout",
     "output_type": "stream",
     "text": [
      "Accuracy using Decision Tree:  74.3 %\n"
     ]
    }
   ],
   "source": [
    "from sklearn.metrics import accuracy_score\n",
    "from sklearn.tree import DecisionTreeClassifier\n",
    "\n",
    "tree = DecisionTreeClassifier(min_samples_split=100)\n",
    "tree.fit(x_train, y_train)\n",
    "tree_pred = tree.predict(x_test)\n",
    "score = accuracy_score(y_test, tree_pred) * 100\n",
    "print(\"Accuracy using Decision Tree: \", round(score, 1), \"%\")"
   ]
  },
  {
   "cell_type": "code",
   "execution_count": 12,
   "metadata": {},
   "outputs": [],
   "source": [
    "# # https://medium.com/@rnbrown/creating-and-visualizing-decision-trees-with-python-f8e8fa394176\n",
    "# # # https://towardsdatascience.com/interactive-visualization-of-decision-trees-with-jupyter-widgets-ca15dd312084\n",
    "\n",
    "# from sklearn.externals.six import StringIO  \n",
    "# from IPython.display import Image  \n",
    "# from sklearn.tree import export_graphviz\n",
    "# import pydotplus\n",
    "# dot_data = StringIO()\n",
    "# export_graphviz(tree_model, out_file=dot_data,  \n",
    "#                 filled=True, rounded=True,\n",
    "#                 special_characters=True)\n",
    "# graph = pydotplus.graph_from_dot_data(dot_data.getvalue())  \n",
    "# Image(graph.create_png())"
   ]
  },
  {
   "cell_type": "markdown",
   "metadata": {},
   "source": [
    "## 2. K Neighbours Classifier"
   ]
  },
  {
   "cell_type": "code",
   "execution_count": 13,
   "metadata": {},
   "outputs": [
    {
     "name": "stdout",
     "output_type": "stream",
     "text": [
      "Accuracy using Knn Tree:  53.3 %\n"
     ]
    }
   ],
   "source": [
    "from sklearn.neighbors import KNeighborsClassifier\n",
    "knn = KNeighborsClassifier(3)\n",
    "knn.fit(x_train, y_train)\n",
    "knn_pred = knn.predict(x_test)\n",
    "score = accuracy_score(y_test, knn_pred) * 100\n",
    "print(\"Accuracy using Knn Tree: \", round(score, 1), \"%\")"
   ]
  },
  {
   "cell_type": "markdown",
   "metadata": {},
   "source": [
    "## 3. Multi-layer Perceptron"
   ]
  },
  {
   "cell_type": "code",
   "execution_count": 14,
   "metadata": {},
   "outputs": [
    {
     "name": "stdout",
     "output_type": "stream",
     "text": [
      "Accuracy using mlp Tree:  56.6 %\n"
     ]
    }
   ],
   "source": [
    "from sklearn.neural_network import MLPClassifier\n",
    "mlp = MLPClassifier()\n",
    "mlp.fit(x_train, y_train)\n",
    "mlp_pred = mlp.predict(x_test)\n",
    "score = accuracy_score(y_test, mlp_pred) * 100\n",
    "print(\"Accuracy using mlp Tree: \", round(score, 1), \"%\")"
   ]
  },
  {
   "cell_type": "markdown",
   "metadata": {},
   "source": [
    "## 4. Random Forest Classifier"
   ]
  },
  {
   "cell_type": "code",
   "execution_count": 15,
   "metadata": {},
   "outputs": [
    {
     "name": "stdout",
     "output_type": "stream",
     "text": [
      "Accuracy using random forest:  73.7 %\n"
     ]
    }
   ],
   "source": [
    "from sklearn.ensemble import RandomForestClassifier\n",
    "forest = RandomForestClassifier(max_depth=5, n_estimators=10, max_features=1)\n",
    "forest.fit(x_train, y_train)\n",
    "forest_pred = forest.predict(x_test)\n",
    "from sklearn.metrics import accuracy_score\n",
    "score = accuracy_score(y_test, forest_pred) * 100\n",
    "print(\"Accuracy using random forest: \", round(score, 1), \"%\")"
   ]
  },
  {
   "cell_type": "markdown",
   "metadata": {},
   "source": [
    "## 5. AdaBoost Classifier"
   ]
  },
  {
   "cell_type": "code",
   "execution_count": 16,
   "metadata": {},
   "outputs": [
    {
     "name": "stdout",
     "output_type": "stream",
     "text": [
      "Accuracy using ada:  73.7 %\n"
     ]
    }
   ],
   "source": [
    "from sklearn.ensemble import AdaBoostClassifier\n",
    "ada = AdaBoostClassifier(n_estimators=100)\n",
    "ada.fit(x_train, y_train)\n",
    "ada_pred = ada.predict(x_test)\n",
    "from sklearn.metrics import accuracy_score\n",
    "score = accuracy_score(y_test, ada_pred) * 100\n",
    "print(\"Accuracy using ada: \", round(score, 1), \"%\")"
   ]
  },
  {
   "cell_type": "markdown",
   "metadata": {},
   "source": [
    "## 6. Naive Bayes"
   ]
  },
  {
   "cell_type": "code",
   "execution_count": 17,
   "metadata": {},
   "outputs": [
    {
     "name": "stdout",
     "output_type": "stream",
     "text": [
      "Accuracy using gauss:  71.1 %\n"
     ]
    }
   ],
   "source": [
    "from sklearn.naive_bayes import GaussianNB\n",
    "gauss = GaussianNB()\n",
    "gauss.fit(x_train, y_train)\n",
    "gauss_pred = gauss.predict(x_test)\n",
    "score = accuracy_score(y_test, gauss_pred)*100\n",
    "print(\"Accuracy using gauss: \", round(score, 1), \"%\")"
   ]
  },
  {
   "cell_type": "markdown",
   "metadata": {},
   "source": [
    "## 7. K Means Clustering"
   ]
  },
  {
   "cell_type": "code",
   "execution_count": 18,
   "metadata": {},
   "outputs": [
    {
     "name": "stdout",
     "output_type": "stream",
     "text": [
      "Accuracy using Kmeans:  32.2 %\n"
     ]
    }
   ],
   "source": [
    "from sklearn.cluster import KMeans\n",
    "k_means = KMeans(n_clusters=3, random_state=0)\n",
    "k_means.fit(x_train, y_train)\n",
    "predicted= k_means.predict(x_test)\n",
    "score = accuracy_score(y_test, predicted)*100\n",
    "print(\"Accuracy using Kmeans: \", round(score, 1), \"%\")"
   ]
  },
  {
   "cell_type": "markdown",
   "metadata": {},
   "source": [
    "## 8. Gradient Boosting Classifier"
   ]
  },
  {
   "cell_type": "code",
   "execution_count": 19,
   "metadata": {},
   "outputs": [
    {
     "name": "stdout",
     "output_type": "stream",
     "text": [
      "Accuracy using Gbc:  75.0 %\n"
     ]
    }
   ],
   "source": [
    "from sklearn.ensemble import GradientBoostingClassifier\n",
    "gbc = GradientBoostingClassifier(n_estimators=100, learning_rate=.1, max_depth=1, random_state=0)\n",
    "gbc.fit(x_train, y_train)\n",
    "predicted = gbc.predict(x_test)\n",
    "score = accuracy_score(y_test, predicted)*100\n",
    "print(\"Accuracy using Gbc: \", round(score, 1), \"%\")"
   ]
  },
  {
   "cell_type": "markdown",
   "metadata": {},
   "source": [
    "# Now apply predictions to my Discover Weekly playlist"
   ]
  },
  {
   "cell_type": "code",
   "execution_count": 45,
   "metadata": {},
   "outputs": [
    {
     "data": {
      "text/html": [
       "<div>\n",
       "<style scoped>\n",
       "    .dataframe tbody tr th:only-of-type {\n",
       "        vertical-align: middle;\n",
       "    }\n",
       "\n",
       "    .dataframe tbody tr th {\n",
       "        vertical-align: top;\n",
       "    }\n",
       "\n",
       "    .dataframe thead th {\n",
       "        text-align: right;\n",
       "    }\n",
       "</style>\n",
       "<table border=\"1\" class=\"dataframe\">\n",
       "  <thead>\n",
       "    <tr style=\"text-align: right;\">\n",
       "      <th></th>\n",
       "      <th>id</th>\n",
       "      <th>name</th>\n",
       "      <th>artist</th>\n",
       "      <th>popularity</th>\n",
       "    </tr>\n",
       "  </thead>\n",
       "  <tbody>\n",
       "    <tr>\n",
       "      <th>0</th>\n",
       "      <td>5GukxVkcnm6wyuw17nYevK</td>\n",
       "      <td>Done - R3hab Remix</td>\n",
       "      <td>Nikki Vianna</td>\n",
       "      <td>46</td>\n",
       "    </tr>\n",
       "    <tr>\n",
       "      <th>1</th>\n",
       "      <td>0ap4E0W70EcUjXqItoM74l</td>\n",
       "      <td>Walk Away - 3LAU Deep Mix</td>\n",
       "      <td>3LAU</td>\n",
       "      <td>39</td>\n",
       "    </tr>\n",
       "    <tr>\n",
       "      <th>2</th>\n",
       "      <td>3ZuLTogqYwaL7DLqAP43t3</td>\n",
       "      <td>Growing Pains - Justin Caruso Remix</td>\n",
       "      <td>Alessia Cara</td>\n",
       "      <td>28</td>\n",
       "    </tr>\n",
       "    <tr>\n",
       "      <th>3</th>\n",
       "      <td>2bcTdyGjBUR8fknw2GeH0z</td>\n",
       "      <td>Gone (feat. Marvin Brooks) - Flyboy Remix</td>\n",
       "      <td>Maan On The Moon</td>\n",
       "      <td>42</td>\n",
       "    </tr>\n",
       "    <tr>\n",
       "      <th>4</th>\n",
       "      <td>1MqBckcnN45W32KSSHnylW</td>\n",
       "      <td>Sometimes</td>\n",
       "      <td>DallasK</td>\n",
       "      <td>59</td>\n",
       "    </tr>\n",
       "    <tr>\n",
       "      <th>5</th>\n",
       "      <td>7mAYdYyUrkUSArOdSrC7rR</td>\n",
       "      <td>Drew Barrymore</td>\n",
       "      <td>LU2VYK</td>\n",
       "      <td>46</td>\n",
       "    </tr>\n",
       "    <tr>\n",
       "      <th>6</th>\n",
       "      <td>0xARbGHzPT1o5t1sFlmyO2</td>\n",
       "      <td>Grip - Jay Pryor Remix</td>\n",
       "      <td>Seeb</td>\n",
       "      <td>54</td>\n",
       "    </tr>\n",
       "    <tr>\n",
       "      <th>7</th>\n",
       "      <td>4MuYNxE0Dgw0PFXz9Aquw6</td>\n",
       "      <td>Trampoline - BKAYE Remix</td>\n",
       "      <td>SHAED</td>\n",
       "      <td>53</td>\n",
       "    </tr>\n",
       "    <tr>\n",
       "      <th>8</th>\n",
       "      <td>1UBDqRniw09drFPk7hgzOF</td>\n",
       "      <td>All That She Wants</td>\n",
       "      <td>Jordan Jay</td>\n",
       "      <td>44</td>\n",
       "    </tr>\n",
       "    <tr>\n",
       "      <th>9</th>\n",
       "      <td>3SoHRFBuaJ11rD7uxxG5Uq</td>\n",
       "      <td>Off My Back</td>\n",
       "      <td>Thoreau</td>\n",
       "      <td>30</td>\n",
       "    </tr>\n",
       "    <tr>\n",
       "      <th>10</th>\n",
       "      <td>5XNltFLO0aM3PHfKYRkuH2</td>\n",
       "      <td>Bad Habits</td>\n",
       "      <td>dzill</td>\n",
       "      <td>30</td>\n",
       "    </tr>\n",
       "    <tr>\n",
       "      <th>11</th>\n",
       "      <td>6xUy203RnyyOfbqf96Nven</td>\n",
       "      <td>Selfish</td>\n",
       "      <td>Dimitri Vegas &amp; Like Mike</td>\n",
       "      <td>69</td>\n",
       "    </tr>\n",
       "    <tr>\n",
       "      <th>12</th>\n",
       "      <td>0McMlTPzi5QjtrQUOCffaZ</td>\n",
       "      <td>What About Us</td>\n",
       "      <td>WizG</td>\n",
       "      <td>29</td>\n",
       "    </tr>\n",
       "    <tr>\n",
       "      <th>13</th>\n",
       "      <td>4ABdTWafMCXfATpILRuZFW</td>\n",
       "      <td>IDWK</td>\n",
       "      <td>DVBBS</td>\n",
       "      <td>63</td>\n",
       "    </tr>\n",
       "    <tr>\n",
       "      <th>14</th>\n",
       "      <td>5ek8fux89OY3S3E8DVNJ4i</td>\n",
       "      <td>All The Way Up</td>\n",
       "      <td>Glazy</td>\n",
       "      <td>37</td>\n",
       "    </tr>\n",
       "    <tr>\n",
       "      <th>15</th>\n",
       "      <td>4apGmexRZUxpTL6f8z42Qt</td>\n",
       "      <td>Congratulations</td>\n",
       "      <td>Carda</td>\n",
       "      <td>29</td>\n",
       "    </tr>\n",
       "    <tr>\n",
       "      <th>16</th>\n",
       "      <td>69HVwrOSZdcFPwJUnuTN1n</td>\n",
       "      <td>Always on My Mind</td>\n",
       "      <td>Nick Martin</td>\n",
       "      <td>35</td>\n",
       "    </tr>\n",
       "    <tr>\n",
       "      <th>17</th>\n",
       "      <td>328QDttJ2uYhtFyFmsiuI6</td>\n",
       "      <td>Lay Me Down</td>\n",
       "      <td>Timeflies</td>\n",
       "      <td>49</td>\n",
       "    </tr>\n",
       "    <tr>\n",
       "      <th>18</th>\n",
       "      <td>16uC4HSJUTNcqaAVbHgWwk</td>\n",
       "      <td>No One Has To Know (Adam Kahati X Deerock Remix)</td>\n",
       "      <td>GoldFish</td>\n",
       "      <td>6</td>\n",
       "    </tr>\n",
       "    <tr>\n",
       "      <th>19</th>\n",
       "      <td>2xFSwFeA7UNM4Tlu2nX9Vz</td>\n",
       "      <td>Wish You Well (feat. Trove) - Club Mix</td>\n",
       "      <td>Famba</td>\n",
       "      <td>31</td>\n",
       "    </tr>\n",
       "    <tr>\n",
       "      <th>20</th>\n",
       "      <td>5DHp41RoSuq0Lv8x9AnQRg</td>\n",
       "      <td>Into My Bed</td>\n",
       "      <td>Harpoon</td>\n",
       "      <td>36</td>\n",
       "    </tr>\n",
       "    <tr>\n",
       "      <th>21</th>\n",
       "      <td>2ZrMXdHe6RfVWv1dlN52as</td>\n",
       "      <td>All U Need</td>\n",
       "      <td>Dizaro</td>\n",
       "      <td>39</td>\n",
       "    </tr>\n",
       "    <tr>\n",
       "      <th>22</th>\n",
       "      <td>2lmyHaEaM1ATZyiFXjI3jg</td>\n",
       "      <td>Stay Here</td>\n",
       "      <td>Zaxx</td>\n",
       "      <td>32</td>\n",
       "    </tr>\n",
       "    <tr>\n",
       "      <th>23</th>\n",
       "      <td>3NSjJE5P1RNWOkDAaUSgra</td>\n",
       "      <td>White Flag</td>\n",
       "      <td>Noah Neiman</td>\n",
       "      <td>34</td>\n",
       "    </tr>\n",
       "    <tr>\n",
       "      <th>24</th>\n",
       "      <td>5pYVOAWWO774uGCouME1wU</td>\n",
       "      <td>Love Thang (feat. Ookay)</td>\n",
       "      <td>YDG</td>\n",
       "      <td>35</td>\n",
       "    </tr>\n",
       "    <tr>\n",
       "      <th>25</th>\n",
       "      <td>0mT29GxaF6xs61GuAd6End</td>\n",
       "      <td>Wild Like The Wind</td>\n",
       "      <td>Deorro</td>\n",
       "      <td>47</td>\n",
       "    </tr>\n",
       "    <tr>\n",
       "      <th>26</th>\n",
       "      <td>7MLZc2C7guizPRLIq6DspS</td>\n",
       "      <td>Turn It Up (COE Remix)</td>\n",
       "      <td>Mike Parr</td>\n",
       "      <td>42</td>\n",
       "    </tr>\n",
       "    <tr>\n",
       "      <th>27</th>\n",
       "      <td>6abIrYu5OWE3z3F4p8MlyO</td>\n",
       "      <td>Creep On Me (feat. French Montana &amp; DJ Snake) ...</td>\n",
       "      <td>GASHI</td>\n",
       "      <td>38</td>\n",
       "    </tr>\n",
       "    <tr>\n",
       "      <th>28</th>\n",
       "      <td>78j7afPUzFV0kAn2qNd1jZ</td>\n",
       "      <td>Treat Me Like A Lady (feat. Jeanne Naylor)</td>\n",
       "      <td>Francis Mercier</td>\n",
       "      <td>29</td>\n",
       "    </tr>\n",
       "    <tr>\n",
       "      <th>29</th>\n",
       "      <td>1AJG3n8tWJut45jn1o2cEH</td>\n",
       "      <td>Getting Closer - Watson Remix</td>\n",
       "      <td>NEW CITY</td>\n",
       "      <td>31</td>\n",
       "    </tr>\n",
       "  </tbody>\n",
       "</table>\n",
       "</div>"
      ],
      "text/plain": [
       "                        id                                               name  \\\n",
       "0   5GukxVkcnm6wyuw17nYevK                                 Done - R3hab Remix   \n",
       "1   0ap4E0W70EcUjXqItoM74l                          Walk Away - 3LAU Deep Mix   \n",
       "2   3ZuLTogqYwaL7DLqAP43t3                Growing Pains - Justin Caruso Remix   \n",
       "3   2bcTdyGjBUR8fknw2GeH0z          Gone (feat. Marvin Brooks) - Flyboy Remix   \n",
       "4   1MqBckcnN45W32KSSHnylW                                          Sometimes   \n",
       "5   7mAYdYyUrkUSArOdSrC7rR                                     Drew Barrymore   \n",
       "6   0xARbGHzPT1o5t1sFlmyO2                             Grip - Jay Pryor Remix   \n",
       "7   4MuYNxE0Dgw0PFXz9Aquw6                           Trampoline - BKAYE Remix   \n",
       "8   1UBDqRniw09drFPk7hgzOF                                 All That She Wants   \n",
       "9   3SoHRFBuaJ11rD7uxxG5Uq                                        Off My Back   \n",
       "10  5XNltFLO0aM3PHfKYRkuH2                                         Bad Habits   \n",
       "11  6xUy203RnyyOfbqf96Nven                                            Selfish   \n",
       "12  0McMlTPzi5QjtrQUOCffaZ                                      What About Us   \n",
       "13  4ABdTWafMCXfATpILRuZFW                                               IDWK   \n",
       "14  5ek8fux89OY3S3E8DVNJ4i                                     All The Way Up   \n",
       "15  4apGmexRZUxpTL6f8z42Qt                                    Congratulations   \n",
       "16  69HVwrOSZdcFPwJUnuTN1n                                  Always on My Mind   \n",
       "17  328QDttJ2uYhtFyFmsiuI6                                        Lay Me Down   \n",
       "18  16uC4HSJUTNcqaAVbHgWwk   No One Has To Know (Adam Kahati X Deerock Remix)   \n",
       "19  2xFSwFeA7UNM4Tlu2nX9Vz             Wish You Well (feat. Trove) - Club Mix   \n",
       "20  5DHp41RoSuq0Lv8x9AnQRg                                        Into My Bed   \n",
       "21  2ZrMXdHe6RfVWv1dlN52as                                         All U Need   \n",
       "22  2lmyHaEaM1ATZyiFXjI3jg                                          Stay Here   \n",
       "23  3NSjJE5P1RNWOkDAaUSgra                                         White Flag   \n",
       "24  5pYVOAWWO774uGCouME1wU                           Love Thang (feat. Ookay)   \n",
       "25  0mT29GxaF6xs61GuAd6End                                 Wild Like The Wind   \n",
       "26  7MLZc2C7guizPRLIq6DspS                             Turn It Up (COE Remix)   \n",
       "27  6abIrYu5OWE3z3F4p8MlyO  Creep On Me (feat. French Montana & DJ Snake) ...   \n",
       "28  78j7afPUzFV0kAn2qNd1jZ         Treat Me Like A Lady (feat. Jeanne Naylor)   \n",
       "29  1AJG3n8tWJut45jn1o2cEH                      Getting Closer - Watson Remix   \n",
       "\n",
       "                       artist  popularity  \n",
       "0                Nikki Vianna          46  \n",
       "1                        3LAU          39  \n",
       "2                Alessia Cara          28  \n",
       "3            Maan On The Moon          42  \n",
       "4                     DallasK          59  \n",
       "5                      LU2VYK          46  \n",
       "6                        Seeb          54  \n",
       "7                       SHAED          53  \n",
       "8                  Jordan Jay          44  \n",
       "9                     Thoreau          30  \n",
       "10                      dzill          30  \n",
       "11  Dimitri Vegas & Like Mike          69  \n",
       "12                       WizG          29  \n",
       "13                      DVBBS          63  \n",
       "14                      Glazy          37  \n",
       "15                      Carda          29  \n",
       "16                Nick Martin          35  \n",
       "17                  Timeflies          49  \n",
       "18                   GoldFish           6  \n",
       "19                      Famba          31  \n",
       "20                    Harpoon          36  \n",
       "21                     Dizaro          39  \n",
       "22                       Zaxx          32  \n",
       "23                Noah Neiman          34  \n",
       "24                        YDG          35  \n",
       "25                     Deorro          47  \n",
       "26                  Mike Parr          42  \n",
       "27                      GASHI          38  \n",
       "28            Francis Mercier          29  \n",
       "29                   NEW CITY          31  "
      ]
     },
     "execution_count": 45,
     "metadata": {},
     "output_type": "execute_result"
    }
   ],
   "source": [
    "data_dw = []\n",
    "df_dw = tracks_to_df(username, dw_playlist_id, data_dw)\n",
    "\n",
    "df_dw"
   ]
  },
  {
   "cell_type": "code",
   "execution_count": 46,
   "metadata": {},
   "outputs": [],
   "source": [
    "dw_ids=df_dw['id'].tolist()"
   ]
  },
  {
   "cell_type": "code",
   "execution_count": 47,
   "metadata": {},
   "outputs": [],
   "source": [
    "dw_features = []\n",
    "data_discover_weekly = features_to_df(dw_ids, dw_features)"
   ]
  },
  {
   "cell_type": "code",
   "execution_count": 51,
   "metadata": {},
   "outputs": [
    {
     "name": "stdout",
     "output_type": "stream",
     "text": [
      "Song: Done - R3hab Remix, By: Nikki Vianna\n",
      "Song: Walk Away - 3LAU Deep Mix, By: 3LAU\n",
      "Song: Growing Pains - Justin Caruso Remix, By: Alessia Cara\n",
      "Song: Gone (feat. Marvin Brooks) - Flyboy Remix, By: Maan On The Moon\n",
      "Song: Sometimes, By: DallasK\n",
      "Song: Grip - Jay Pryor Remix, By: Seeb\n",
      "Song: All That She Wants, By: Jordan Jay\n",
      "Song: What About Us, By: WizG\n",
      "Song: IDWK, By: DVBBS\n",
      "Song: Congratulations, By: Carda\n",
      "Song: Always on My Mind, By: Nick Martin\n",
      "Song: Wish You Well (feat. Trove) - Club Mix, By: Famba\n",
      "Song: Into My Bed, By: Harpoon\n",
      "Song: All U Need, By: Dizaro\n",
      "Song: Stay Here, By: Zaxx\n",
      "Song: Wild Like The Wind, By: Deorro\n",
      "Song: Turn It Up (COE Remix), By: Mike Parr\n",
      "Song: Treat Me Like A Lady (feat. Jeanne Naylor), By: Francis Mercier\n",
      "Song: Getting Closer - Watson Remix, By: NEW CITY\n"
     ]
    }
   ],
   "source": [
    "pred_dw = gbc.predict(data_discover_weekly[features])\n",
    "\n",
    "likedSongs = 0\n",
    "i = 0\n",
    "for prediction in pred_dw:\n",
    "    if(prediction == 1):\n",
    "        print (\"Song: \" + df_dw[\"name\"][i] + \", By: \"+ df_dw[\"artist\"][i])\n",
    "        sp.user_playlist_add_tracks(username, '2RARDnZLQGVPo0sXScDA8g', [df_dw['id'][i]])\n",
    "        likedSongs= likedSongs + 1\n",
    "    i = i +1"
   ]
  },
  {
   "cell_type": "code",
   "execution_count": null,
   "metadata": {},
   "outputs": [],
   "source": []
  }
 ],
 "metadata": {
  "kernelspec": {
   "display_name": "Python 3",
   "language": "python",
   "name": "python3"
  },
  "language_info": {
   "codemirror_mode": {
    "name": "ipython",
    "version": 3
   },
   "file_extension": ".py",
   "mimetype": "text/x-python",
   "name": "python",
   "nbconvert_exporter": "python",
   "pygments_lexer": "ipython3",
   "version": "3.6.5"
  }
 },
 "nbformat": 4,
 "nbformat_minor": 2
}
